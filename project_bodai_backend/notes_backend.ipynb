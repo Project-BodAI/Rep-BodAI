{
 "cells": [
  {
   "cell_type": "markdown",
   "id": "90917549",
   "metadata": {},
   "source": [
    "### Supabase REST API"
   ]
  },
  {
   "cell_type": "markdown",
   "id": "2fcbca33",
   "metadata": {},
   "source": [
    "This file handles user registration and login requests using FastAPI and Supabase.\n",
    "\n",
    "It uses the Supabase REST API to interact with the user database."
   ]
  },
  {
   "cell_type": "code",
   "execution_count": null,
   "id": "307418d2",
   "metadata": {},
   "outputs": [],
   "source": [
    "from fastapi import FastAPI, HTTPException\n",
    "from pydantic import BaseModel\n",
    "import requests"
   ]
  },
  {
   "cell_type": "code",
   "execution_count": null,
   "id": "06800b00",
   "metadata": {},
   "outputs": [],
   "source": [
    "from dotenv import load_dotenv\n",
    "import os\n",
    "load_dotenv()  # Load .env file\n",
    "SUPABASE_URL = os.getenv(\"SUPABASE_URL\")\n",
    "SUPABASE_KEY = os.getenv(\"SUPABASE_KEY\")\n",
    "url = f\"{SUPABASE_URL}/rest/v1/users\""
   ]
  },
  {
   "cell_type": "code",
   "execution_count": null,
   "id": "6c3b6de6",
   "metadata": {},
   "outputs": [],
   "source": [
    "app = FastAPI()\n",
    "\n",
    "# Define input schema\n",
    "class UserCreate(BaseModel):\n",
    "    username: str\n",
    "    email: str\n",
    "    password: str  # Password should be hashed before storing"
   ]
  },
  {
   "cell_type": "code",
   "execution_count": null,
   "id": "c49d558d",
   "metadata": {},
   "outputs": [],
   "source": [
    "@app.get(\"/\")\n",
    "def root():\n",
    "    return {\"message\": \"Welcome to the AI Fitness API\"}"
   ]
  },
  {
   "cell_type": "code",
   "execution_count": null,
   "id": "aa435291",
   "metadata": {},
   "outputs": [],
   "source": [
    "# Endpoint to register a new user\n",
    "@app.post(\"/register\")\n",
    "def register_user(user: UserCreate):\n",
    "    headers = {\n",
    "        \"apikey\": SUPABASE_KEY,\n",
    "        \"Authorization\": f\"Bearer {SUPABASE_KEY}\",\n",
    "        \"Content-Type\": \"application/json\"\n",
    "    }\n",
    "\n",
    "    # Validate that the user does not already exist\n",
    "    payload = user.dict()\n",
    "\n",
    "    response = requests.post(url, headers=headers, json=payload)\n",
    "\n",
    "    if response.status_code != 201:\n",
    "        return {\n",
    "            \"status\": \"error\",\n",
    "            \"code\": response.status_code,\n",
    "            \"detail\": response.text\n",
    "        }\n",
    "    return {\"message\": \"User added successfully!\"}"
   ]
  },
  {
   "cell_type": "markdown",
   "id": "12144401",
   "metadata": {},
   "source": [
    "### Hash Password Before Saving"
   ]
  },
  {
   "cell_type": "markdown",
   "id": "a64f477e",
   "metadata": {},
   "source": [
    "#### Hashing vs Enryption"
   ]
  },
  {
   "cell_type": "markdown",
   "id": "dd8cf929",
   "metadata": {},
   "source": [
    "| Feature                      | Hashing (`bcrypt`)     | Encryption                   |\n",
    "| ---------------------------- | ---------------------- | ---------------------------- |\n",
    "| **One-way?**                 | ✅ Yes (irreversible)   | ❌ No (can be reversed)       |\n",
    "| **Use case**                 | Password storage       | Message secrecy              |\n",
    "| **Needs secret key?**        | ❌ No                   | ✅ Yes (to decrypt)           |\n",
    "| **Same input, same output?** | ❌ bcrypt adds a \"salt\" | ✅ Usually, unless randomized |\n"
   ]
  },
  {
   "cell_type": "markdown",
   "id": "4286f776",
   "metadata": {},
   "source": [
    "#### How ```verify()``` works"
   ]
  },
  {
   "cell_type": "markdown",
   "id": "7a5ccf91",
   "metadata": {},
   "source": [
    "| Step | What happens                                |\n",
    "| ---- | ------------------------------------------- |\n",
    "| 1    | Parse salt & cost from stored hash          |\n",
    "| 2    | Re-hash user’s input using same salt & cost |\n",
    "| 3    | Compare both hashes securely                |\n",
    "| ✅    | If match → allow login                      |\n"
   ]
  },
  {
   "cell_type": "code",
   "execution_count": 1,
   "id": "437de3ee",
   "metadata": {},
   "outputs": [],
   "source": [
    "from passlib.context import CryptContext"
   ]
  },
  {
   "cell_type": "code",
   "execution_count": 2,
   "id": "97f58898",
   "metadata": {},
   "outputs": [],
   "source": [
    "# Set up hashing algorithm\n",
    "pwd_context = CryptContext(schemes=[\"bcrypt\"], deprecated=\"auto\")\n",
    "\n",
    "def hash_password(password: str) -> str:\n",
    "    return pwd_context.hash(password)"
   ]
  },
  {
   "cell_type": "code",
   "execution_count": 3,
   "id": "2cc0a5f5",
   "metadata": {},
   "outputs": [
    {
     "name": "stderr",
     "output_type": "stream",
     "text": [
      "(trapped) error reading bcrypt version\n",
      "Traceback (most recent call last):\n",
      "  File \"/workspaces/Rep-BodAI/.venv/lib/python3.12/site-packages/passlib/handlers/bcrypt.py\", line 620, in _load_backend_mixin\n",
      "    version = _bcrypt.__about__.__version__\n",
      "              ^^^^^^^^^^^^^^^^^\n",
      "AttributeError: module 'bcrypt' has no attribute '__about__'\n"
     ]
    },
    {
     "name": "stdout",
     "output_type": "stream",
     "text": [
      "Hashed password: $2b$12$wtkhoA8jurHp4S49Oy9pmuGCQuGEg7o1nUjspoaAZUIsaKdn9LUH2\n"
     ]
    }
   ],
   "source": [
    "hash = hash_password(\"my_secure_password\")\n",
    "print(f\"Hashed password: {hash}\")"
   ]
  },
  {
   "cell_type": "code",
   "execution_count": 4,
   "id": "d35c2f80",
   "metadata": {},
   "outputs": [
    {
     "data": {
      "text/plain": [
       "True"
      ]
     },
     "execution_count": 4,
     "metadata": {},
     "output_type": "execute_result"
    }
   ],
   "source": [
    "pwd_context.verify(\"my_secure_password\", hash)  # returns True\n"
   ]
  },
  {
   "cell_type": "code",
   "execution_count": null,
   "id": "37e5a158",
   "metadata": {},
   "outputs": [],
   "source": []
  },
  {
   "cell_type": "code",
   "execution_count": null,
   "id": "8c69c112",
   "metadata": {},
   "outputs": [],
   "source": []
  }
 ],
 "metadata": {
  "kernelspec": {
   "display_name": ".venv",
   "language": "python",
   "name": "python3"
  },
  "language_info": {
   "codemirror_mode": {
    "name": "ipython",
    "version": 3
   },
   "file_extension": ".py",
   "mimetype": "text/x-python",
   "name": "python",
   "nbconvert_exporter": "python",
   "pygments_lexer": "ipython3",
   "version": "3.12.1"
  }
 },
 "nbformat": 4,
 "nbformat_minor": 5
}
